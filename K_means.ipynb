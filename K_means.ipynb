{
  "nbformat": 4,
  "nbformat_minor": 0,
  "metadata": {
    "colab": {
      "provenance": [],
      "collapsed_sections": [],
      "authorship_tag": "ABX9TyNO6hXJDLnEyDuIexOx+2IR",
      "include_colab_link": true
    },
    "kernelspec": {
      "name": "python3",
      "display_name": "Python 3"
    },
    "language_info": {
      "name": "python"
    }
  },
  "cells": [
    {
      "cell_type": "markdown",
      "metadata": {
        "id": "view-in-github",
        "colab_type": "text"
      },
      "source": [
        "<a href=\"https://colab.research.google.com/github/findalexli/ML_algo_with_numpy/blob/main/K_means.ipynb\" target=\"_parent\"><img src=\"https://colab.research.google.com/assets/colab-badge.svg\" alt=\"Open In Colab\"/></a>"
      ]
    },
    {
      "cell_type": "code",
      "source": [
        "import matplotlib.pyplot as plt\n",
        "import numpy as np\n"
      ],
      "metadata": {
        "id": "duLh_B_4uCkB"
      },
      "execution_count": 4,
      "outputs": []
    },
    {
      "cell_type": "code",
      "execution_count": 5,
      "metadata": {
        "colab": {
          "base_uri": "https://localhost:8080/",
          "height": 300
        },
        "id": "_PVbHT2at53V",
        "outputId": "cc295049-0883-4fea-fcf8-a816e4592beb"
      },
      "outputs": [
        {
          "output_type": "stream",
          "name": "stdout",
          "text": [
            "(2, 150)\n"
          ]
        },
        {
          "output_type": "execute_result",
          "data": {
            "text/plain": [
              "<matplotlib.collections.PathCollection at 0x7f4217f4ab50>"
            ]
          },
          "metadata": {},
          "execution_count": 5
        },
        {
          "output_type": "display_data",
          "data": {
            "text/plain": [
              "<Figure size 432x288 with 1 Axes>"
            ],
            "image/png": "[encoded data removed]"
          },
          "metadata": {
            "needs_background": "light"
          }
        }
      ],
      "source": [
        "a = np.random.multivariate_normal([-2, -2], [[1.0, 0], [0, 1.0]], 50).T \n",
        "b = np.random.multivariate_normal([2, -2], [[0.5, 0], [0, 0.5]], 50).T \n",
        "c = np.random.multivariate_normal([2, 3], [[1.0, 0], [0, 1.5]], 50).T \n",
        "X = np.hstack((a, b, c)) \n",
        "print(X.shape)\n",
        "plt.scatter(X[0], X[1]) "
      ]
    },
    {
      "cell_type": "markdown",
      "source": [
        "K -means\n",
        "Coordiante descent of \n",
        "\n",
        "$$ \\sum_{i = 1^{n} || X^i - \\mu ||^2 $$\n",
        "\n",
        "\n",
        "1. Select number of cluster that we want as k \n",
        "2. Randomly choose k points in the data as centroids\n",
        "3. Assign each data point to its nearest neighbor\n",
        "4. Recompute the mean of data in each cluster as their new centroid\n",
        "5. Repeat (3) and (4) until some stopping criteria (points do not change cluster)\n",
        "\n",
        "Drawback: \n",
        "1.We have to pre-specify k before starting the algorithm and we might not know what is the best k\n",
        "2. In k-means, the final clusters depend a lot on the initialization procedure\n",
        "3. K-means performs poorly when the clusters are very complicated shapes"
      ],
      "metadata": {
        "id": "JXj8may0udej"
      }
    },
    {
      "cell_type": "code",
      "source": [
        "X.T.shape"
      ],
      "metadata": {
        "colab": {
          "base_uri": "https://localhost:8080/"
        },
        "id": "YZevV_Z3ghRk",
        "outputId": "15fc1abb-4dbe-4877-eebb-215772c2b14b"
      },
      "execution_count": 9,
      "outputs": [
        {
          "output_type": "execute_result",
          "data": {
            "text/plain": [
              "(150, 2)"
            ]
          },
          "metadata": {},
          "execution_count": 9
        }
      ]
    },
    {
      "cell_type": "code",
      "source": [
        "def l2_distance(u, v):\n",
        "    return np.linalg.norm(u - v)\n",
        "\n",
        "def _calc_closet_cluster(point, cluster_to_centroids):\n",
        "    min_distance = float('inf')\n",
        "    output = None\n",
        "    for i, centroid in enumerate(cluster_to_centroids):\n",
        "        if min_distance > l2_distance(point, centroid):\n",
        "            min_distance = l2_distance(point, centroid)\n",
        "            output = i \n",
        "    return output\n",
        "\n",
        "def kmeans(X, k, max_iterations, points_change_min = 1e-9):\n",
        "    # i for cluster index, and j for point index\n",
        "    n = X.shape[0]\n",
        "    centroids_id = np.random.randint(0, n, k)\n",
        "    centroids = X[centroids_id]\n",
        "    # points_to_cluster = np.ones(n)\n",
        "    # cluster_to_points = [[] for _ in range(k)]\n",
        "    for iter_idx in range(max_iterations):\n",
        "        prev_centroids = centroids.copy()\n",
        "        cluster_to_points = [[] for _ in range(k)]\n",
        "        points_to_cluster = np.ones(n)\n",
        "        for j in range(n):\n",
        "            i = _calc_closet_cluster(X[j], centroids)\n",
        "            points_to_cluster[j] = i\n",
        "            cluster_to_points[i].append(j)\n",
        "        for i in range(k):\n",
        "            mean = np.mean(X[cluster_to_points[i]], axis = 0)\n",
        "            centroids[i] = mean\n",
        "        \n",
        "        if np.linalg.norm(prev_centroids - centroids) < points_change_min:\n",
        "            print('Early stopped')\n",
        "            break\n",
        "        \n",
        "        if iter_idx % 50 == 0 or iter_idx == max_iterations - 1:\n",
        "            distances_summed = 0\n",
        "            for i in range(k):\n",
        "                mean = centroids[i]\n",
        "                distances_summed += np.sum(l2_distance(mean, point) for point in X[cluster_to_points[i]])\n",
        "            print(f'Average distance { distances_summed}')\n",
        "    return points_to_cluster, distances_summed\n",
        "\n",
        "\n",
        "inertia_list = []\n",
        "for k in range(3, 10):\n",
        "    _, inertia = kmeans(X.T, k, 700)\n",
        "    inertia_list.append(inertia)\n"
      ],
      "metadata": {
        "colab": {
          "base_uri": "https://localhost:8080/"
        },
        "id": "UPfGXcL-b-Td",
        "outputId": "7ebc1d54-e4db-459e-837c-8a1e1840349a"
      },
      "execution_count": 52,
      "outputs": [
        {
          "output_type": "stream",
          "name": "stderr",
          "text": [
            "/usr/local/lib/python3.7/dist-packages/ipykernel_launcher.py:40: DeprecationWarning: Calling np.sum(generator) is deprecated, and in the future will give a different result. Use np.sum(np.fromiter(generator)) or the python sum builtin instead.\n"
          ]
        },
        {
          "output_type": "stream",
          "name": "stdout",
          "text": [
            "Average distance 336.21730094333964\n",
            "Early stopped\n",
            "Average distance 378.2485716355961\n",
            "Early stopped\n",
            "Average distance 240.37090204827186\n",
            "Early stopped\n",
            "Average distance 164.71005816065752\n",
            "Early stopped\n",
            "Average distance 167.92905529733892\n",
            "Average distance 150.07375174388562\n",
            "Average distance 150.07375174388562\n",
            "Average distance 150.07375174388562\n",
            "Average distance 150.07375174388562\n",
            "Average distance 150.07375174388562\n",
            "Average distance 150.07375174388562\n",
            "Average distance 150.07375174388562\n",
            "Average distance 150.07375174388562\n",
            "Average distance 150.07375174388562\n",
            "Average distance 150.07375174388562\n",
            "Average distance 150.07375174388562\n",
            "Average distance 150.07375174388562\n",
            "Average distance 150.07375174388562\n",
            "Average distance 150.07375174388562\n",
            "Average distance 161.42283730513827\n",
            "Average distance 149.983129564348\n",
            "Average distance 149.983129564348\n",
            "Average distance 149.983129564348\n",
            "Average distance 149.983129564348\n",
            "Average distance 149.983129564348\n",
            "Average distance 149.983129564348\n",
            "Average distance 149.983129564348\n",
            "Average distance 149.983129564348\n",
            "Average distance 149.983129564348\n",
            "Average distance 149.983129564348\n",
            "Average distance 149.983129564348\n",
            "Average distance 149.983129564348\n",
            "Average distance 149.983129564348\n",
            "Average distance 149.983129564348\n",
            "Average distance 129.40325657712378\n",
            "Early stopped\n",
            "Average distance 131.30798186694688\n",
            "Early stopped\n"
          ]
        }
      ]
    },
    {
      "cell_type": "code",
      "source": [
        "plt.plot(inertia_list)"
      ],
      "metadata": {
        "colab": {
          "base_uri": "https://localhost:8080/",
          "height": 282
        },
        "id": "Q_mMel2YwzKx",
        "outputId": "6b5cabb0-4241-45e8-ee83-022dd0865318"
      },
      "execution_count": 54,
      "outputs": [
        {
          "output_type": "execute_result",
          "data": {
            "text/plain": [
              "[<matplotlib.lines.Line2D at 0x7f42176445d0>]"
            ]
          },
          "metadata": {},
          "execution_count": 54
        },
        {
          "output_type": "display_data",
          "data": {
            "text/plain": [
              "<Figure size 432x288 with 1 Axes>"
            ],
            "image/png": "[encoded data removed]"
          },
          "metadata": {
            "needs_background": "light"
          }
        }
      ]
    },
    {
      "cell_type": "code",
      "source": [
        "colormap = np.array(['r', 'g', 'b'])\n",
        "points_to_cluster, _ = kmeans(X.T, 3, 700)\n",
        "\n",
        "plt.scatter(X[0], X[1], c = colormap[points_to_cluster.astype(int)])"
      ],
      "metadata": {
        "colab": {
          "base_uri": "https://localhost:8080/",
          "height": 354
        },
        "id": "XcWPpboEjDaC",
        "outputId": "afb4fd02-8301-4817-df4c-dac540920751"
      },
      "execution_count": 56,
      "outputs": [
        {
          "output_type": "stream",
          "name": "stdout",
          "text": [
            "Average distance 183.05410551266834\n",
            "Early stopped\n"
          ]
        },
        {
          "output_type": "stream",
          "name": "stderr",
          "text": [
            "/usr/local/lib/python3.7/dist-packages/ipykernel_launcher.py:40: DeprecationWarning: Calling np.sum(generator) is deprecated, and in the future will give a different result. Use np.sum(np.fromiter(generator)) or the python sum builtin instead.\n"
          ]
        },
        {
          "output_type": "execute_result",
          "data": {
            "text/plain": [
              "<matplotlib.collections.PathCollection at 0x7f42175ac690>"
            ]
          },
          "metadata": {},
          "execution_count": 56
        },
        {
          "output_type": "display_data",
          "data": {
            "text/plain": [
              "<Figure size 432x288 with 1 Axes>"
            ],
            "image/png": "[encoded data removed]"
          },
          "metadata": {
            "needs_background": "light"
          }
        }
      ]
    },
    {
      "cell_type": "markdown",
      "source": [
        "# Alternative method"
      ],
      "metadata": {
        "id": "d8lF0uj8xRkp"
      }
    },
    {
      "cell_type": "code",
      "source": [
        "class KMeansClustering:\n",
        "    def __init__(self, X, num_clusters):\n",
        "        self.K = num_clusters # cluster number\n",
        "        self.max_iterations = 100 # max iteration. don't want to run inf time\n",
        "        self.num_examples, self.num_features = X.shape # num of examples, num of features\n",
        "        self.plot_figure = True # plot figure\n",
        "        \n",
        "    # randomly initialize centroids\n",
        "    def initialize_random_centroids(self, X):\n",
        "        centroids = np.zeros((self.K, self.num_features)) # row , column full with zero \n",
        "        for k in range(self.K): # iterations of \n",
        "            centroid = X[np.random.choice(range(self.num_examples))] # random centroids\n",
        "            centroids[k] = centroid\n",
        "        return centroids # return random centroids\n",
        "    \n",
        "    # create cluster Function\n",
        "    def create_cluster(self, X, centroids):\n",
        "        clusters = [[] for _ in range(self.K)]\n",
        "        for point_idx, point in enumerate(X):\n",
        "            closest_centroid = np.argmin(\n",
        "                np.sqrt(np.sum((point-centroids)**2, axis=1))\n",
        "            ) # closest centroid using euler distance equation(calculate distance of every point from centroid)\n",
        "            clusters[closest_centroid].append(point_idx)\n",
        "        return clusters \n",
        "    \n",
        "    # new centroids\n",
        "    def calculate_new_centroids(self, cluster, X):\n",
        "        centroids = np.zeros((self.K, self.num_features)) # row , column full with zero\n",
        "        for idx, cluster in enumerate(cluster):\n",
        "            new_centroid = np.mean(X[cluster], axis=0) # find the value for new centroids\n",
        "            centroids[idx] = new_centroid\n",
        "        return centroids\n",
        "    \n",
        "    # prediction\n",
        "    def predict_cluster(self, clusters, X):\n",
        "        y_pred = np.zeros(self.num_examples) # row1 fillup with zero\n",
        "        for cluster_idx, cluster in enumerate(clusters):\n",
        "            for sample_idx in cluster:\n",
        "                y_pred[sample_idx] = cluster_idx\n",
        "        return y_pred\n",
        "\n",
        "    # fit data\n",
        "    def fit(self, X):\n",
        "        centroids = self.initialize_random_centroids(X) # initialize random centroids\n",
        "        for _ in range(self.max_iterations):\n",
        "            clusters = self.create_cluster(X, centroids) # create cluster\n",
        "            previous_centroids = centroids\n",
        "            centroids = self.calculate_new_centroids(clusters, X) # calculate new centroids\n",
        "            # distances_summed = 0\n",
        "            # for i in range(len(centroids)):\n",
        "            #     mean = centroids[i]\n",
        "            #     distances_summed += np.sum(np.linalg.norm(mean - point) for point in clusters[i])\n",
        "            print(distances_summed)\n",
        "            diff = centroids - previous_centroids # calculate difference\n",
        "            if not diff.any():\n",
        "                break\n",
        "        y_pred = self.predict_cluster(clusters, X) # predict function\n",
        "\n",
        "        return y_pred\n",
        "\n",
        "Kmeans = KMeansClustering(X, 3)\n",
        "y_pred = Kmeans.fit(X)"
      ],
      "metadata": {
        "colab": {
          "base_uri": "https://localhost:8080/",
          "height": 346
        },
        "id": "lMA3Ebi8fmWD",
        "outputId": "b12b83c8-420a-468e-8563-4f2b2d527aca"
      },
      "execution_count": 39,
      "outputs": [
        {
          "output_type": "error",
          "ename": "IndexError",
          "evalue": "ignored",
          "traceback": [
            "\u001b[0;31m---------------------------------------------------------------------------\u001b[0m",
            "\u001b[0;31mIndexError\u001b[0m                                Traceback (most recent call last)",
            "\u001b[0;32m<ipython-input-39-548df4fcb138>\u001b[0m in \u001b[0;36m<module>\u001b[0;34m\u001b[0m\n\u001b[1;32m     60\u001b[0m \u001b[0;34m\u001b[0m\u001b[0m\n\u001b[1;32m     61\u001b[0m \u001b[0mKmeans\u001b[0m \u001b[0;34m=\u001b[0m \u001b[0mKMeansClustering\u001b[0m\u001b[0;34m(\u001b[0m\u001b[0mX\u001b[0m\u001b[0;34m,\u001b[0m \u001b[0;36m3\u001b[0m\u001b[0;34m)\u001b[0m\u001b[0;34m\u001b[0m\u001b[0;34m\u001b[0m\u001b[0m\n\u001b[0;32m---> 62\u001b[0;31m \u001b[0my_pred\u001b[0m \u001b[0;34m=\u001b[0m \u001b[0mKmeans\u001b[0m\u001b[0;34m.\u001b[0m\u001b[0mfit\u001b[0m\u001b[0;34m(\u001b[0m\u001b[0mX\u001b[0m\u001b[0;34m)\u001b[0m\u001b[0;34m\u001b[0m\u001b[0;34m\u001b[0m\u001b[0m\n\u001b[0m",
            "\u001b[0;32m<ipython-input-39-548df4fcb138>\u001b[0m in \u001b[0;36mfit\u001b[0;34m(self, X)\u001b[0m\n\u001b[1;32m     46\u001b[0m             \u001b[0mclusters\u001b[0m \u001b[0;34m=\u001b[0m \u001b[0mself\u001b[0m\u001b[0;34m.\u001b[0m\u001b[0mcreate_cluster\u001b[0m\u001b[0;34m(\u001b[0m\u001b[0mX\u001b[0m\u001b[0;34m,\u001b[0m \u001b[0mcentroids\u001b[0m\u001b[0;34m)\u001b[0m \u001b[0;31m# create cluster\u001b[0m\u001b[0;34m\u001b[0m\u001b[0;34m\u001b[0m\u001b[0m\n\u001b[1;32m     47\u001b[0m             \u001b[0mprevious_centroids\u001b[0m \u001b[0;34m=\u001b[0m \u001b[0mcentroids\u001b[0m\u001b[0;34m\u001b[0m\u001b[0;34m\u001b[0m\u001b[0m\n\u001b[0;32m---> 48\u001b[0;31m             \u001b[0mcentroids\u001b[0m \u001b[0;34m=\u001b[0m \u001b[0mself\u001b[0m\u001b[0;34m.\u001b[0m\u001b[0mcalculate_new_centroids\u001b[0m\u001b[0;34m(\u001b[0m\u001b[0mclusters\u001b[0m\u001b[0;34m,\u001b[0m \u001b[0mX\u001b[0m\u001b[0;34m)\u001b[0m \u001b[0;31m# calculate new centroids\u001b[0m\u001b[0;34m\u001b[0m\u001b[0;34m\u001b[0m\u001b[0m\n\u001b[0m\u001b[1;32m     49\u001b[0m             \u001b[0;31m# distances_summed = 0\u001b[0m\u001b[0;34m\u001b[0m\u001b[0;34m\u001b[0m\u001b[0;34m\u001b[0m\u001b[0m\n\u001b[1;32m     50\u001b[0m             \u001b[0;31m# for i in range(len(centroids)):\u001b[0m\u001b[0;34m\u001b[0m\u001b[0;34m\u001b[0m\u001b[0;34m\u001b[0m\u001b[0m\n",
            "\u001b[0;32m<ipython-input-39-548df4fcb138>\u001b[0m in \u001b[0;36mcalculate_new_centroids\u001b[0;34m(self, cluster, X)\u001b[0m\n\u001b[1;32m     28\u001b[0m         \u001b[0mcentroids\u001b[0m \u001b[0;34m=\u001b[0m \u001b[0mnp\u001b[0m\u001b[0;34m.\u001b[0m\u001b[0mzeros\u001b[0m\u001b[0;34m(\u001b[0m\u001b[0;34m(\u001b[0m\u001b[0mself\u001b[0m\u001b[0;34m.\u001b[0m\u001b[0mK\u001b[0m\u001b[0;34m,\u001b[0m \u001b[0mself\u001b[0m\u001b[0;34m.\u001b[0m\u001b[0mnum_features\u001b[0m\u001b[0;34m)\u001b[0m\u001b[0;34m)\u001b[0m \u001b[0;31m# row , column full with zero\u001b[0m\u001b[0;34m\u001b[0m\u001b[0;34m\u001b[0m\u001b[0m\n\u001b[1;32m     29\u001b[0m         \u001b[0;32mfor\u001b[0m \u001b[0midx\u001b[0m\u001b[0;34m,\u001b[0m \u001b[0mcluster\u001b[0m \u001b[0;32min\u001b[0m \u001b[0menumerate\u001b[0m\u001b[0;34m(\u001b[0m\u001b[0mcluster\u001b[0m\u001b[0;34m)\u001b[0m\u001b[0;34m:\u001b[0m\u001b[0;34m\u001b[0m\u001b[0;34m\u001b[0m\u001b[0m\n\u001b[0;32m---> 30\u001b[0;31m             \u001b[0mnew_centroid\u001b[0m \u001b[0;34m=\u001b[0m \u001b[0mnp\u001b[0m\u001b[0;34m.\u001b[0m\u001b[0mmean\u001b[0m\u001b[0;34m(\u001b[0m\u001b[0mX\u001b[0m\u001b[0;34m[\u001b[0m\u001b[0midx\u001b[0m\u001b[0;34m]\u001b[0m\u001b[0;34m,\u001b[0m \u001b[0maxis\u001b[0m\u001b[0;34m=\u001b[0m\u001b[0;36m0\u001b[0m\u001b[0;34m)\u001b[0m \u001b[0;31m# find the value for new centroids\u001b[0m\u001b[0;34m\u001b[0m\u001b[0;34m\u001b[0m\u001b[0m\n\u001b[0m\u001b[1;32m     31\u001b[0m             \u001b[0mcentroids\u001b[0m\u001b[0;34m[\u001b[0m\u001b[0midx\u001b[0m\u001b[0;34m]\u001b[0m \u001b[0;34m=\u001b[0m \u001b[0mnew_centroid\u001b[0m\u001b[0;34m\u001b[0m\u001b[0;34m\u001b[0m\u001b[0m\n\u001b[1;32m     32\u001b[0m         \u001b[0;32mreturn\u001b[0m \u001b[0mcentroids\u001b[0m\u001b[0;34m\u001b[0m\u001b[0;34m\u001b[0m\u001b[0m\n",
            "\u001b[0;31mIndexError\u001b[0m: index 2 is out of bounds for axis 0 with size 2"
          ]
        }
      ]
    },
    {
      "cell_type": "code",
      "source": [
        "colormap = np.array(['r', 'g', 'b'])\n",
        "plt.scatter(X[0], X[1], c = colormap[points_to_cluster])"
      ],
      "metadata": {
        "colab": {
          "base_uri": "https://localhost:8080/",
          "height": 282
        },
        "id": "KgrENO0U0YUf",
        "outputId": "ca67df37-b500-4aea-a2b2-eb48a7c9fa5b"
      },
      "execution_count": 11,
      "outputs": [
        {
          "output_type": "execute_result",
          "data": {
            "text/plain": [
              "<matplotlib.collections.PathCollection at 0x7f5e5258d050>"
            ]
          },
          "metadata": {},
          "execution_count": 11
        },
        {
          "output_type": "display_data",
          "data": {
            "text/plain": [
              "<Figure size 432x288 with 1 Axes>"
            ],
            "image/png": "[encoded data removed]"
          },
          "metadata": {
            "needs_background": "light"
          }
        }
      ]
    },
    {
      "cell_type": "code",
      "source": [],
      "metadata": {
        "id": "7Veq1JH20slM"
      },
      "execution_count": null,
      "outputs": []
    }
  ]
}