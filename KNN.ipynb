{
  "nbformat": 4,
  "nbformat_minor": 0,
  "metadata": {
    "colab": {
      "provenance": [],
      "collapsed_sections": [],
      "authorship_tag": "ABX9TyMbGV9vCi/VcK+eAWoB+XMX",
      "include_colab_link": true
    },
    "kernelspec": {
      "name": "python3",
      "display_name": "Python 3"
    },
    "language_info": {
      "name": "python"
    }
  },
  "cells": [
    {
      "cell_type": "markdown",
      "metadata": {
        "id": "view-in-github",
        "colab_type": "text"
      },
      "source": [
        "<a href=\"https://colab.research.google.com/github/findalexli/ML_algo_with_numpy/blob/main/KNN.ipynb\" target=\"_parent\"><img src=\"https://colab.research.google.com/assets/colab-badge.svg\" alt=\"Open In Colab\"/></a>"
      ]
    },
    {
      "cell_type": "code",
      "source": [
        "import numpy as np\n",
        "from sklearn.datasets import load_iris\n",
        "from sklearn.preprocessing import StandardScaler\n",
        "from statistics import mode\n",
        "iris = load_iris()\n",
        "X = iris.data\n",
        "y = iris.target\n",
        "\n",
        "scalar = StandardScaler()\n",
        "scalar.fit_transform(X)"
      ],
      "metadata": {
        "id": "_H507jdh4_SM"
      },
      "execution_count": null,
      "outputs": []
    },
    {
      "cell_type": "code",
      "source": [
        "from sklearn.model_selection import train_test_split\n",
        "X_train, X_test, y_train, y_test = train_test_split(X, y, test_size = 0.2, random_state = 42)\n"
      ],
      "metadata": {
        "id": "0lhS4U6T-sDe"
      },
      "execution_count": null,
      "outputs": []
    },
    {
      "cell_type": "code",
      "execution_count": null,
      "metadata": {
        "id": "HXYQgy121l7j"
      },
      "outputs": [],
      "source": [
        "def euclidean_distance(u, v):\n",
        "    return np.linalg.norm(u-v)\n",
        "class KNN():\n",
        "    def __init__(self, k):\n",
        "        self.k = k\n",
        "\n",
        "    def fit(self, X_train, y_train):\n",
        "        self.X_train = X_train\n",
        "        self.y_train  = y_train\n",
        "\n",
        "    def predict(self, X_test_array):\n",
        "        return np.array([self.predict_point(point) for point in X_test_array])\n",
        "    \n",
        "    def predict_point(self, X_test_point):\n",
        "        distances = []\n",
        "        for i in range(len(self.X_train)):\n",
        "            distances.append((np.linalg.norm(self.X_train[i] - X_test_point), \n",
        "                                             self.y_train[i]))\n",
        "        neighbors = sorted(distances)[:self.k]\n",
        "        labels = [label for _, label in neighbors]\n",
        "        return mode(labels)\n",
        "    \n",
        "\n",
        "def knn_naive(X, k):\n",
        "    \" KNN implemeantion with vanilla sorting algorithm \"\n",
        "    distances = []\n",
        "    for i in range(len(X)): # o(r) time\n",
        "        distance = euclidean_distance(X[i], x_test) # O(c) time \n",
        "        distances.append((distance, y[i]))\n",
        "    \n",
        "    neighbors = sorted(distances)[:k] # o（r)\n",
        "    labels = [label for _, label in neighbors]\n",
        "    return mode(labels)"
      ]
    },
    {
      "cell_type": "code",
      "source": [
        "#%timeit\n",
        "\n",
        "knn = KNN(3)\n",
        "knn.fit(X_train, y_train)\n",
        "\n",
        "knn.predict_point(X_test[0])\n",
        "#knn.predict(X_test)"
      ],
      "metadata": {
        "colab": {
          "base_uri": "https://localhost:8080/"
        },
        "id": "w-Ce9z-96CVv",
        "outputId": "da21467c-6d29-4e7b-8928-832cc7ffb283"
      },
      "execution_count": null,
      "outputs": [
        {
          "output_type": "execute_result",
          "data": {
            "text/plain": [
              "1"
            ]
          },
          "metadata": {},
          "execution_count": 44
        }
      ]
    },
    {
      "cell_type": "markdown",
      "source": [
        "Quick Select based KNN"
      ],
      "metadata": {
        "id": "dMr9WBcd0nY9"
      }
    },
    {
      "cell_type": "code",
      "source": [
        "import random\n",
        "def partition(arr, lo, high):\n",
        "    \"lo and high are inclusive\"\n",
        "    rand = random.randint(lo, high)\n",
        "    arr[rand], arr[-1] = arr[-1], arr[rand]\n",
        "    pivot = lo\n",
        "    for i in range(lo, high):\n",
        "        if arr[i][0] < arr[pivot][0]:\n",
        "            arr[i], arr[pivot] = arr[pivot], arr[i]\n",
        "            pivot += 1\n",
        "    arr[pivot], arr[high] = arr[high], arr[pivot]\n",
        "    return pivot\n",
        "\n",
        "def quickselect(arr, lo, high, k):\n",
        "    while True:\n",
        "        pivot = partition(arr, lo, high)\n",
        "        if pivot < k:\n",
        "            lo = pivot + 1\n",
        "        elif pivot > k:\n",
        "            high = pivot - 1\n",
        "        else:\n",
        "            return arr"
      ],
      "metadata": {
        "id": "A0VlZhLx6HWY"
      },
      "execution_count": null,
      "outputs": []
    }
  ]
}