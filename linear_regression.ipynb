{
  "nbformat": 4,
  "nbformat_minor": 0,
  "metadata": {
    "colab": {
      "provenance": [],
      "authorship_tag": "ABX9TyM1fq9FFsmhMXh6Wp05t/dJ",
      "include_colab_link": true
    },
    "kernelspec": {
      "name": "python3",
      "display_name": "Python 3"
    },
    "language_info": {
      "name": "python"
    }
  },
  "cells": [
    {
      "cell_type": "markdown",
      "metadata": {
        "id": "view-in-github",
        "colab_type": "text"
      },
      "source": [
        "<a href=\"https://colab.research.google.com/github/findalexli/ML_algo_with_numpy/blob/main/linear_regression.ipynb\" target=\"_parent\"><img src=\"https://colab.research.google.com/assets/colab-badge.svg\" alt=\"Open In Colab\"/></a>"
      ]
    },
    {
      "cell_type": "code",
      "source": [
        "import numpy as np"
      ],
      "metadata": {
        "id": "mF1SZ8l1_wat"
      },
      "execution_count": 1,
      "outputs": []
    },
    {
      "cell_type": "markdown",
      "source": [
        "Cost Function for linear regression\n",
        "y = X * weights\n",
        "\n",
        "Goal: \n",
        "Minimize: (1/n) *(y_pred - y_true)^2 "
      ],
      "metadata": {
        "id": "B-2cq8AXAwhf"
      }
    },
    {
      "cell_type": "code",
      "source": [
        "X = np.random.randint(1, 5, size = (500, 5))\n",
        "y = X[:, 1] * 3 + X[:, 3] * 4"
      ],
      "metadata": {
        "id": "ySdGcPnfByAw"
      },
      "execution_count": 2,
      "outputs": []
    },
    {
      "cell_type": "code",
      "source": [
        "# newton's closed formmat \n",
        "weights = np.linalg.inv(np.dot(X.T, X)) @ X.T @ y\n",
        "print(weights)"
      ],
      "metadata": {
        "colab": {
          "base_uri": "https://localhost:8080/"
        },
        "id": "3yazPUSfB50u",
        "outputId": "4f53c86b-d65f-4a1a-b14d-44e6f2e9ed18"
      },
      "execution_count": 4,
      "outputs": [
        {
          "output_type": "stream",
          "name": "stdout",
          "text": [
            "[-1.72084569e-15  3.00000000e+00 -3.46944695e-15  4.00000000e+00\n",
            "  3.15719673e-16]\n"
          ]
        }
      ]
    },
    {
      "cell_type": "code",
      "execution_count": 24,
      "metadata": {
        "id": "qtGUmOrn_gUp"
      },
      "outputs": [],
      "source": [
        "X = np.random.randint(1, 5, size = (500, 5))\n",
        "y = X[:, 1] * 3 + X[:, 3] * 4\n",
        "\n",
        "def train_linear_regression(X, Y, max_epochs, learning_rate, max_tol):\n",
        "    n, f = X.shape\n",
        "    X = np.column_stack((X, np.ones(n)))\n",
        "    weights = np.random.rand(f + 1)\n",
        "    prev_cost = np.rand(1)\n",
        "    for iter_epoch in range(max_epochs):\n",
        "        prev_cost = cost\n",
        "        y_preds = np.dot(X, weights)\n",
        "        cost = (1/n) * np.linalg.norm(y_preds - y)\n",
        "        grad = (1/n) * np.dot(X.T, (y_preds - y))\n",
        "\n",
        "        if iter_epoch > 10 and np.abs(prev_cost - cost) < max_tol:\n",
        "            print('Early stopped')\n",
        "            break\n",
        "        \n",
        "        weights -= learning_rate * grad\n",
        "\n",
        "\n",
        "    return weights\n"
      ]
    },
    {
      "cell_type": "code",
      "source": [
        "train_linear_regression(X, y, 15000, 0.01)"
      ],
      "metadata": {
        "colab": {
          "base_uri": "https://localhost:8080/"
        },
        "id": "xUcHqCamCsXn",
        "outputId": "db9b77a6-29d9-4982-eaa7-6c3c7335b1df"
      },
      "execution_count": 26,
      "outputs": [
        {
          "output_type": "execute_result",
          "data": {
            "text/plain": [
              "array([-1.55318664e-04,  2.99982437e+00, -1.41227491e-04,  3.99982392e+00,\n",
              "       -1.47049222e-04,  2.05025931e-03])"
            ]
          },
          "metadata": {},
          "execution_count": 26
        }
      ]
    },
    {
      "cell_type": "code",
      "source": [],
      "metadata": {
        "id": "g__5eq7jCvLI"
      },
      "execution_count": null,
      "outputs": []
    }
  ]
}